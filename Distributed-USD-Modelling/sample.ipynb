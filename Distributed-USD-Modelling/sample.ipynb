{
 "cells": [
  {
   "cell_type": "code",
   "execution_count": 1,
   "metadata": {},
   "outputs": [],
   "source": [
    "from pxr import Usd, UsdGeom"
   ]
  },
  {
   "cell_type": "code",
   "execution_count": null,
   "metadata": {},
   "outputs": [],
   "source": [
    "# Create a new stage\n",
    "stage = Usd.Stage.CreateNew(\"simple_scene.usda\")\n",
    "\n",
    "# Define a new Xform (transform) prim at the root of the stage\n",
    "xform = stage.DefinePrim(\"/World\", \"Xform\")\n",
    "\n",
    "# Define a new Mesh prim under the Xform prim\n",
    "cube = stage.DefinePrim(\"/World/Cube\", \"Mesh\")\n",
    "\n",
    "# Set the points for the cube\n",
    "cube.GetAttribute(\"points\").Set([\n",
    "    (-1, -1, -1), (1, -1, -1), (1, 1, -1), (-1, 1, -1),\n",
    "    (-1, -1, 1), (1, -1, 1), (1, 1, 1), (-1, 1, 1)\n",
    "])\n",
    "\n",
    "# Set the face vertex indices for the cube\n",
    "cube.GetAttribute(\"faceVertexIndices\").Set([\n",
    "    0, 1, 2, 3,  # Bottom face\n",
    "    4, 5, 6, 7,  # Top face\n",
    "    0, 1, 5, 4,  # Front face\n",
    "    2, 3, 7, 6,  # Back face\n",
    "    0, 3, 7, 4,  # Left face\n",
    "    1, 2, 6, 5   # Right face\n",
    "])\n",
    "\n",
    "# Set the face vertex counts for the cube\n",
    "cube.GetAttribute(\"faceVertexCounts\").Set([4, 4, 4, 4, 4, 4])\n",
    "\n",
    "# Save the stage to a file\n",
    "stage.GetRootLayer().Save()\n",
    "\n",
    "print(\"USD stage created and saved as simple_scene.usda\")"
   ]
  }
 ],
 "metadata": {
  "kernelspec": {
   "display_name": "base",
   "language": "python",
   "name": "python3"
  },
  "language_info": {
   "codemirror_mode": {
    "name": "ipython",
    "version": 3
   },
   "file_extension": ".py",
   "mimetype": "text/x-python",
   "name": "python",
   "nbconvert_exporter": "python",
   "pygments_lexer": "ipython3",
   "version": "3.11.7"
  }
 },
 "nbformat": 4,
 "nbformat_minor": 2
}
